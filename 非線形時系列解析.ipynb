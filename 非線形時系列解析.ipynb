{
  "nbformat": 4,
  "nbformat_minor": 0,
  "metadata": {
    "colab": {
      "provenance": [],
      "authorship_tag": "ABX9TyOLBwANVAFvDfPorv0F/gdy"
    },
    "kernelspec": {
      "name": "python3",
      "display_name": "Python 3"
    },
    "language_info": {
      "name": "python"
    },
    "accelerator": "TPU"
  },
  "cells": [
    {
      "cell_type": "code",
      "execution_count": 1,
      "metadata": {
        "id": "2c4bGwxmIKCR"
      },
      "outputs": [],
      "source": [
        "#ライブラリのインポート\n",
        "import numpy as np\n",
        "import matplotlib.pyplot as plt"
      ]
    },
    {
      "cell_type": "code",
      "source": [],
      "metadata": {
        "id": "81pmfKW9IRjm"
      },
      "execution_count": 1,
      "outputs": []
    },
    {
      "cell_type": "markdown",
      "source": [
        "## フーリエトランスフォームサロゲート\n",
        "\n",
        "非線形統計量として並進誤差を利用"
      ],
      "metadata": {
        "id": "WO2-aX5DIdsT"
      }
    },
    {
      "cell_type": "code",
      "source": [
        "#x:時系列，t:時間遅れ，m:埋め込み次元，nn:使用する状態空間上の近傍点数，stp:並進誤差算出次のステップ数，data:作成するサロゲートデータ数\n",
        "#Q:並進誤差算出次のサンプリングする状態空間上の点数，A:並進誤差算出処理の回数\n",
        "\n",
        "def surrogate(x,t,m,nn,stp,data,Q,A=10):\n",
        "  N = len(x)\n",
        "\n",
        "  #サロゲートデータの非線形統計量保存用の配列\n",
        "  Es = np.zeros(data)\n",
        "\n",
        "\n",
        "  x = np.array(x)\n",
        "\n",
        "  #時系列データのデータ点数の偶奇で分ける\n",
        "  if N%2 == 0:\n",
        "    n = int(N/2)\n",
        "    Judge = 0\n",
        "  else:\n",
        "    n = int((N-1)/2 + 1)\n",
        "    Judge = 1\n",
        "\n",
        "  for d in range(data+1):\n",
        "    xs = np.copy(x)\n",
        "\n",
        "    #d=0は元データ，それ以外はサロゲートデータ\n",
        "    if d != 0:\n",
        "\n",
        "      #フーリエ変換\n",
        "      xs = np.fft.fft(xs)\n",
        "      #位相をランダマイズ\n",
        "      xs = xs[:n] * np.exp(np.random.rand(n)*2*np.pi*1j)\n",
        "\n",
        "      if Judge == 0:\n",
        "        xs = np.append(xs,xs[::-1])\n",
        "      else:\n",
        "        xs = np.append(xs,xs[-2::-1])\n",
        "\n",
        "      #逆フーリエ変換\n",
        "      xs = np.real(np.fft.ifft(xs))\n",
        "\n",
        "    #埋め込み\n",
        "    X = np.zeros((N-(m-1)*t,m))\n",
        "    for i in range(1,m+1):\n",
        "      X[:,i-1] = xs[(i-1)*t:i*t+N-m*t]\n",
        "\n",
        "\n",
        "    #並進誤差A回分を格納する配列\n",
        "    E = np.zeros(A)\n",
        "\n",
        "    #A回処理開始\n",
        "    for a in range(A):\n",
        "\n",
        "      #サンプリング数ごとに算出される値を格納する配列\n",
        "      e = np.zeros(Q)\n",
        "      #eに格納するためのインデックス\n",
        "      j = 0\n",
        "\n",
        "      sample = np.random.choice(len(X)-stp,Q,replace=False)\n",
        "      for i in sample:\n",
        "\n",
        "        #データ点数を超えないように処理\n",
        "        dist = np.zeros(len(X)-stp)\n",
        "\n",
        "        #対象のデータ点と状態空間上の任意の点の距離を計算\n",
        "        dist[:] = np.linalg.norm(X[i,:]-X[:len(X)-stp,:],axis=1)\n",
        "\n",
        "        #距離の短い順にindexを取得\n",
        "        di = np.argsort(dist)\n",
        "\n",
        "        #推移ベクトル用\n",
        "        v = np.zeros(nn+1)\n",
        "\n",
        "        #対象のデータ点と近傍点nn個のstp数先の点との推移ベクトルを算出\n",
        "        v = X[di[:nn+1]+stp,:]-X[di[:nn+1],:]\n",
        "\n",
        "        #求めた推移ベクトルの平均ベクトルを算出\n",
        "        v_ave = np.mean(v,axis=0)\n",
        "\n",
        "        #それぞれデータ点と求めた平均との差分を算出\n",
        "        v_var = np.sum(np.linalg.norm(v[:]-v_ave,ord=2,axis=1))\n",
        "\n",
        "        #vをv_aveとv_varを使って算出されるスカラーに更新\n",
        "        v = v_var/np.linalg.norm(v_ave,ord=2)\n",
        "\n",
        "        #サンプリング１回で最終的に算出される値を格納\n",
        "        e[j] = v/(nn+1)\n",
        "        j += 1\n",
        "\n",
        "      #サンプリング回数ごとに算出された最終値の中央値を格納\n",
        "      E[a] = np.median(e)\n",
        "\n",
        "\n",
        "    #オリジナルデータの非線形統計量\n",
        "    if d == 0:\n",
        "      Eo = np.mean(E)\n",
        "    #サロゲートデータの非線形統計量を配列で保存\n",
        "    else:\n",
        "      Es[d-1] = np.mean(E)\n",
        "\n",
        "    print(str(d)+'回目終了')\n",
        "\n",
        "  return Eo,Es\n"
      ],
      "metadata": {
        "id": "jHALsSZ_Ic0D"
      },
      "execution_count": 2,
      "outputs": []
    },
    {
      "cell_type": "code",
      "source": [],
      "metadata": {
        "id": "w64R2R6mIRbh"
      },
      "execution_count": 2,
      "outputs": []
    },
    {
      "cell_type": "code",
      "source": [
        "#Lorenz\n",
        "from mpl_toolkits.mplot3d import Axes3D\n",
        "p = 10\n",
        "r = 28\n",
        "b = 8/3\n",
        "\n",
        "def f1(x,y):\n",
        "  return -p*x+p*y\n",
        "def f2(x,y,z):\n",
        "  return -x*z+r*x-y\n",
        "def f3(x,y,z):\n",
        "  return x*y-b*z\n",
        "\n",
        "dt = 0.01\n",
        "x = 0.2\n",
        "y = 0.3\n",
        "z = 0.4\n",
        "X = []\n",
        "Y = []\n",
        "Z = []\n",
        "\n",
        "for i in range(5000):\n",
        "  X.append(x)\n",
        "  Y.append(y)\n",
        "  Z.append(z)\n",
        "  k1x = f1(x,y)*dt\n",
        "  k1y = f2(x,y,z)*dt\n",
        "  k1z = f3(x,y,z)*dt\n",
        "\n",
        "  k2x = f1(x+0.5*k1x,y+0.5*k1y)*dt\n",
        "  k2y = f2(x+0.5*k1x,y+0.5*k1y,z+0.5*k1z)*dt\n",
        "  k2z = f3(x+0.5*k1x,y+0.5*k1y,z+0.5*k1z)*dt\n",
        "\n",
        "  k3x = f1(x+0.5*k2x,y+0.5*k2y)*dt\n",
        "  k3y = f2(x+0.5*k2x,y+0.5*k2y,z+0.5*k2z)*dt\n",
        "  k3z = f3(x+0.5*k2x,y+0.5*k2y,z+0.5*k2z)*dt\n",
        "\n",
        "  k4x = f1(x+k3x,y+k3y)*dt\n",
        "  k4y = f2(x+k3x,y+k3y,z+k3z)*dt\n",
        "  k4z = f3(x+k3x,y+k3y,z+k3z)*dt\n",
        "\n",
        "  x += (k1x+2*k2x+2*k3x+k4x)/6\n",
        "  y += (k1y+2*k2y+2*k3y+k4y)/6\n",
        "  z += (k1z+2*k2z+2*k3z+k4z)/6\n",
        "\n",
        "fig = plt.figure()\n",
        "ax = fig.add_subplot(111, projection='3d')\n",
        "#ax = Axes3D(fig)\n",
        "\n",
        "ax.set_xlabel(\"x\",fontsize=14)\n",
        "ax.set_ylabel(\"y\",fontsize=14)\n",
        "ax.set_zlabel(\"z\",fontsize=14)\n",
        "ax.plot(X,Y,Z)\n",
        "plt.show()\n"
      ],
      "metadata": {
        "id": "lXiO86Zt_Qv2"
      },
      "execution_count": null,
      "outputs": []
    },
    {
      "cell_type": "code",
      "source": [],
      "metadata": {
        "id": "91PBZPTBFZYf"
      },
      "execution_count": 5,
      "outputs": []
    },
    {
      "cell_type": "code",
      "source": [
        "#Lorenz方程式のYを使用\n",
        "\n",
        "eo,es = surrogate(Y,7,3,5,12,100,100,100)\n",
        "histogram = plt.hist(es,bins=100,ec='black',label=\"surrogate\")\n",
        "\n",
        "limit = np.max(histogram[0])+1\n",
        "\n",
        "plt.bar(eo,height=np.max(histogram[0])+1,width=0.003,color='orange',label=\"original\")\n",
        "\n",
        "plt.legend()\n",
        "plt.ylim(0,limit)"
      ],
      "metadata": {
        "id": "cZKNLRfK_rTB"
      },
      "execution_count": null,
      "outputs": []
    },
    {
      "cell_type": "code",
      "source": [],
      "metadata": {
        "id": "OqkOm5bMIRUn"
      },
      "execution_count": null,
      "outputs": []
    }
  ]
}